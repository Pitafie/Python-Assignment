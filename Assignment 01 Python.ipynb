{
 "cells": [
  {
   "cell_type": "markdown",
   "id": "08b5e5d6",
   "metadata": {},
   "source": [
    "#### Twinkle Twinkle"
   ]
  },
  {
   "cell_type": "code",
   "execution_count": 12,
   "id": "6c6c92b3",
   "metadata": {},
   "outputs": [
    {
     "name": "stdout",
     "output_type": "stream",
     "text": [
      "\n",
      "Twinkle, twinkle, little star\n",
      "    How I wonder what you are\n",
      "        Up above the world so high\n",
      "        Like a diamond in the sky\n",
      "Twinkle, twinkle, little star\n",
      "    How I wonder what you are\n"
     ]
    }
   ],
   "source": [
    "print(\"\"\"\n",
    "Twinkle, twinkle, little star\n",
    "    How I wonder what you are\n",
    "        Up above the world so high\n",
    "        Like a diamond in the sky\n",
    "Twinkle, twinkle, little star\n",
    "    How I wonder what you are\"\"\")"
   ]
  },
  {
   "cell_type": "markdown",
   "id": "0307b4fb",
   "metadata": {},
   "source": [
    "#### Date"
   ]
  },
  {
   "cell_type": "code",
   "execution_count": 2,
   "id": "fb762f5c",
   "metadata": {},
   "outputs": [
    {
     "name": "stdout",
     "output_type": "stream",
     "text": [
      "2022-01-01 21:51:43.141460\n"
     ]
    }
   ],
   "source": [
    "from datetime import datetime\n",
    "today = datetime.now()\n",
    "print(today)"
   ]
  },
  {
   "cell_type": "markdown",
   "id": "055a3589",
   "metadata": {},
   "source": [
    "#### Area"
   ]
  },
  {
   "cell_type": "code",
   "execution_count": 3,
   "id": "bd438688",
   "metadata": {},
   "outputs": [],
   "source": [
    "def areas():\n",
    "    from math import pi\n",
    "    x =int(input()) \n",
    "    area = (pi * (x)**2)\n",
    "    print(\"Area of radius is {}\".format(area))\n",
    "    print(\"Do you want yo compute another radius of circle?\")\n",
    "    again = input()\n",
    "    if again==\"yes\" or again==\"Yes\" or again==\"Y\":\n",
    "        areas()\n",
    "    else:\n",
    "        print(\"Thank you!\")"
   ]
  },
  {
   "cell_type": "markdown",
   "id": "9777d54f",
   "metadata": {},
   "source": [
    "#### Reversing name"
   ]
  },
  {
   "cell_type": "code",
   "execution_count": 4,
   "id": "8006960b",
   "metadata": {},
   "outputs": [
    {
     "name": "stdout",
     "output_type": "stream",
     "text": [
      "Input your First Name : Usama\n",
      "Input your Last Name : Abid\n",
      "Hello  Abid Usama\n"
     ]
    }
   ],
   "source": [
    "fname = input(\"Input your First Name : \")\n",
    "lname = input(\"Input your Last Name : \")\n",
    "print (\"Hello  \" + lname + \" \" + fname)"
   ]
  },
  {
   "cell_type": "markdown",
   "id": "09e36362",
   "metadata": {},
   "source": [
    "#### Addition"
   ]
  },
  {
   "cell_type": "code",
   "execution_count": 6,
   "id": "5ec0340f",
   "metadata": {},
   "outputs": [
    {
     "name": "stdout",
     "output_type": "stream",
     "text": [
      "Input your 1st didit : 12\n",
      "Input your last digit : 23\n",
      "35\n"
     ]
    }
   ],
   "source": [
    "fdigit = int(input(\"Input your 1st didit : \"))\n",
    "ldigit = int(input(\"Input your last digit : \"))\n",
    "print (fdigit + ldigit)"
   ]
  },
  {
   "cell_type": "markdown",
   "id": "0ec046ce",
   "metadata": {},
   "source": [
    "#### Python Version"
   ]
  },
  {
   "cell_type": "code",
   "execution_count": 10,
   "id": "b3ba3e7f",
   "metadata": {},
   "outputs": [
    {
     "name": "stdout",
     "output_type": "stream",
     "text": [
      "3.8.8 (default, Apr 13 2021, 15:08:03) [MSC v.1916 64 bit (AMD64)]\n"
     ]
    }
   ],
   "source": [
    "import sys\n",
    "print(sys.version)\n"
   ]
  },
  {
   "cell_type": "code",
   "execution_count": null,
   "id": "aa4c37b0",
   "metadata": {},
   "outputs": [],
   "source": []
  }
 ],
 "metadata": {
  "kernelspec": {
   "display_name": "Python 3",
   "language": "python",
   "name": "python3"
  },
  "language_info": {
   "codemirror_mode": {
    "name": "ipython",
    "version": 3
   },
   "file_extension": ".py",
   "mimetype": "text/x-python",
   "name": "python",
   "nbconvert_exporter": "python",
   "pygments_lexer": "ipython3",
   "version": "3.8.8"
  }
 },
 "nbformat": 4,
 "nbformat_minor": 5
}
